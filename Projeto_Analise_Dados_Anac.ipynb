{
  "nbformat": 4,
  "nbformat_minor": 0,
  "metadata": {
    "colab": {
      "provenance": []
    },
    "kernelspec": {
      "name": "python3",
      "display_name": "Python 3"
    },
    "language_info": {
      "name": "python"
    }
  },
  "cells": [
    {
      "cell_type": "markdown",
      "source": [
        "##Projeto Final: Processamento de Dados em Larga Escala\n",
        "\n",
        "\n",
        "\n",
        "* **Aluno: Thiago Brito de Andrade Tenório**\n",
        "* **Turma: Dados-2023.1**\n",
        "* **Tecnologia Aplicada: PySpark SQL**\n",
        "* **Base de Dados: Tarifas Anac (2013-2023)**\n",
        "* **Link: https://sas.anac.gov.br/sas/downloads/view/frmDownload.aspx?tema=14**\n",
        "\n",
        "A base se trata de dados referentes a Tarifas Aéreas registrados pela ANAC (Agência Nacional de Aviação Civil) no período entre Janeiro de 2013 e Novembro de 2023.\n",
        "\n",
        "**Dicionário de Dados:**\n",
        "\n",
        "1. **ANO:** Ano de Registro da Tarifa\n",
        "2. **MES:** Mês de Registro da Tarifa\n",
        "3. **EMPRESA:** Ticker da Empresa que executou o trecho.\n",
        "4. **ORIGEM:** Ticker do Local de Origem do Trecho.\n",
        "5. **DESTINO:** Ticker do Local de Destino do Trecho.\n",
        "6. **TARIFA:** Valor cobrado no Trecho.\n",
        "7. **ASSENTOS:** Número de assentos vendidos no Trecho por determinada empresa\n",
        "\n",
        "*Obs:* Fiz o Upload de todos os dados organizados por ano e mês para meu Github no link a seguir: https://github.com/tbatenorio/BigData/tree/main/AnacDB\n",
        "\n",
        "\n",
        "\n",
        "\n",
        "\n",
        "\n"
      ],
      "metadata": {
        "id": "FyN0cwGFdAEJ"
      }
    },
    {
      "cell_type": "code",
      "execution_count": 1,
      "metadata": {
        "colab": {
          "base_uri": "https://localhost:8080/"
        },
        "id": "FJumlD3jc4cj",
        "outputId": "461a66ba-e714-44f5-f5a5-11ac5d57d978"
      },
      "outputs": [
        {
          "output_type": "stream",
          "name": "stdout",
          "text": [
            "Collecting pyspark\n",
            "  Downloading pyspark-3.5.1.tar.gz (317.0 MB)\n",
            "\u001b[2K     \u001b[90m━━━━━━━━━━━━━━━━━━━━━━━━━━━━━━━━━━━━━━━━\u001b[0m \u001b[32m317.0/317.0 MB\u001b[0m \u001b[31m2.9 MB/s\u001b[0m eta \u001b[36m0:00:00\u001b[0m\n",
            "\u001b[?25h  Preparing metadata (setup.py) ... \u001b[?25l\u001b[?25hdone\n",
            "Requirement already satisfied: py4j==0.10.9.7 in /usr/local/lib/python3.10/dist-packages (from pyspark) (0.10.9.7)\n",
            "Building wheels for collected packages: pyspark\n",
            "  Building wheel for pyspark (setup.py) ... \u001b[?25l\u001b[?25hdone\n",
            "  Created wheel for pyspark: filename=pyspark-3.5.1-py2.py3-none-any.whl size=317488493 sha256=854ed73dc1ff9563bb056a1366993f24f3ff81b5caf6e66684252b2c1ae840e7\n",
            "  Stored in directory: /root/.cache/pip/wheels/80/1d/60/2c256ed38dddce2fdd93be545214a63e02fbd8d74fb0b7f3a6\n",
            "Successfully built pyspark\n",
            "Installing collected packages: pyspark\n",
            "Successfully installed pyspark-3.5.1\n"
          ]
        }
      ],
      "source": [
        "!pip install --upgrade pyspark"
      ]
    },
    {
      "cell_type": "markdown",
      "source": [
        "## Library Imports & Configs\n"
      ],
      "metadata": {
        "id": "ABH5saEBug-z"
      }
    },
    {
      "cell_type": "code",
      "source": [
        "import os\n",
        "import pyspark.sql.functions as F\n",
        "from pyspark.sql.types import StructType, StructField, IntegerType, StringType, FloatType\n",
        "from pyspark.sql.window import Window\n",
        "from pyspark.sql import SparkSession\n",
        "import urllib.request\n",
        "\n",
        "os.environ['PYSPARK_SUBMIT_ARGS'] = '\\\n",
        "    --driver-memory 2G \\\n",
        "    --executor-memory 2G \\\n",
        "    pyspark-shell'\n",
        "\n",
        "spark = SparkSession.builder\\\n",
        "    .master(\"local[*]\")\\\n",
        "    .getOrCreate()"
      ],
      "metadata": {
        "id": "3NIK_WFYpiz3"
      },
      "execution_count": 2,
      "outputs": []
    },
    {
      "cell_type": "markdown",
      "source": [
        "##Importação das Bases de Dados"
      ],
      "metadata": {
        "id": "mrqkS-9Xury0"
      }
    },
    {
      "cell_type": "code",
      "source": [
        "%%time\n",
        "# Defina o esquema\n",
        "schema = StructType([\n",
        "    StructField(\"ANO\", StringType(), True),\n",
        "    StructField(\"MES\", StringType(), True),\n",
        "    StructField(\"EMPRESA\", StringType(), True),\n",
        "    StructField(\"ORIGEM\", StringType(), True),\n",
        "    StructField(\"DESTINO\", StringType(), True),\n",
        "    StructField(\"TARIFA\", FloatType(), True),\n",
        "    StructField(\"ASSENTOS\", IntegerType(), True),\n",
        "])\n",
        "\n",
        "# Crie um DataFrame vazio com o esquema\n",
        "data_spark = spark.createDataFrame([], schema=schema)\n",
        "\n",
        "meses = ['01','02','03','04','05','06','07','08','09','10','11','12']\n",
        "\n",
        "for ano in range (2013, 2024):\n",
        "  for mes in meses:\n",
        "      try:\n",
        "          # Nome do arquivo local\n",
        "          local_file = local_file = ('File' + str(ano) + str(mes) + '.CSV')\n",
        "          #Monta a url\n",
        "          url = (f'https://raw.githubusercontent.com/tbatenorio/BigData/main/AnacDB/{ano}/{ano}{mes}.CSV')\n",
        "          # Baixe o arquivo CSV localmente\n",
        "          urllib.request.urlretrieve(url, local_file)\n",
        "          #Ler o arquivo CSV no Spark DataFrame\n",
        "          data = spark.read.csv(local_file, header=True, sep=';')\n",
        "          #Realizar Tratamento na coluna 'TARIFA' para ser tipo Float\n",
        "          data = data.withColumn('TARIFA', F.regexp_replace('TARIFA', ',', '.').cast(FloatType()))\n",
        "          #Realizar Tratamento na coluna 'ASSENTOS' para ser tipo Integer\n",
        "          data = data.withColumn('ASSENTOS', F.col('ASSENTOS').cast(IntegerType()))\n",
        "          #Adiciona à Base de Dados Geral\n",
        "          data_spark = data_spark.union(data)\n",
        "      except Exception as e:\n",
        "          print(f\"Erro ao ler o arquivo para o ano {ano} e mês {mes}: {e}\")\n",
        "\n",
        "data_spark.show()"
      ],
      "metadata": {
        "colab": {
          "base_uri": "https://localhost:8080/"
        },
        "id": "i88zqTs2rnIV",
        "outputId": "66e9dd25-f5a9-46d1-bc55-bbcf4e037f80"
      },
      "execution_count": 3,
      "outputs": [
        {
          "output_type": "stream",
          "name": "stdout",
          "text": [
            "Erro ao ler o arquivo para o ano 2023 e mês 12: HTTP Error 404: Not Found\n",
            "+----+---+-------+------+-------+------+--------+\n",
            "| ANO|MES|EMPRESA|ORIGEM|DESTINO|TARIFA|ASSENTOS|\n",
            "+----+---+-------+------+-------+------+--------+\n",
            "|2013|  1|    AZU|  SBRJ|   SBFN| 849.9|       2|\n",
            "|2013|  1|    AZU|  SBSR|   SBPA|241.31|       4|\n",
            "|2013|  1|    AZU|  SBKP|   SBJF|620.91|       1|\n",
            "|2013|  1|    AZU|  SBBE|   SBKP| 769.9|       1|\n",
            "|2013|  1|    AZU|  SBKP|   SBJI|432.31|       2|\n",
            "|2013|  1|    AZU|  SBRP|   SBRJ| 188.0|       3|\n",
            "|2013|  1|    AZU|  SBVT|   SBRJ| 90.02|       1|\n",
            "|2013|  1|    AZU|  SBAR|   SBSV| 179.9|      21|\n",
            "|2013|  1|    AZU|  SBFL|   SBKP|129.09|       9|\n",
            "|2013|  1|    AZU|  SBSR|   SBMA| 899.9|       1|\n",
            "|2013|  1|    AZU|  SBSV|   SBCF| 385.9|       3|\n",
            "|2013|  1|    AZU|  SBMO|   SBSV|721.51|       1|\n",
            "|2013|  1|    AZU|  SBNF|   SBUL|488.71|       2|\n",
            "|2013|  1|    AZU|  SBGO|   SWRD|399.81|       1|\n",
            "|2013|  1|    AZU|  SBFZ|   SBBR|1149.9|       7|\n",
            "|2013|  1|    AZU|  SBAR|   SBNT| 209.9|       2|\n",
            "|2013|  1|    AZU|  SBPA|   SBNF|350.91|       4|\n",
            "|2013|  1|    AZU|  SBFN|   SBGL|2009.9|       2|\n",
            "|2013|  1|    AZU|  SBJP|   SBFZ|737.91|       2|\n",
            "|2013|  1|    AZU|  SBRJ|   SBCF|272.51|      22|\n",
            "+----+---+-------+------+-------+------+--------+\n",
            "only showing top 20 rows\n",
            "\n",
            "CPU times: user 5.51 s, sys: 4.44 s, total: 9.95 s\n",
            "Wall time: 2min 12s\n"
          ]
        }
      ]
    },
    {
      "cell_type": "code",
      "source": [
        "print(\"O número total de Registros das bases entre 2013 e 2023 é de: \" + str(data_spark.count()))"
      ],
      "metadata": {
        "colab": {
          "base_uri": "https://localhost:8080/"
        },
        "id": "zxx01LxfoE1n",
        "outputId": "235c8658-43dc-4cea-aa83-2a64af951240"
      },
      "execution_count": null,
      "outputs": [
        {
          "output_type": "stream",
          "name": "stdout",
          "text": [
            "O número total de Registros das bases entre 2013 e 2023 é de: 51580063\n"
          ]
        }
      ]
    },
    {
      "cell_type": "code",
      "source": [
        "data_spark.printSchema()"
      ],
      "metadata": {
        "colab": {
          "base_uri": "https://localhost:8080/"
        },
        "id": "_hwsF_YrPreS",
        "outputId": "37a9992c-e91c-4a38-a810-8b7ba4edefae"
      },
      "execution_count": null,
      "outputs": [
        {
          "output_type": "stream",
          "name": "stdout",
          "text": [
            "root\n",
            " |-- ANO: string (nullable = true)\n",
            " |-- MES: string (nullable = true)\n",
            " |-- EMPRESA: string (nullable = true)\n",
            " |-- ORIGEM: string (nullable = true)\n",
            " |-- DESTINO: string (nullable = true)\n",
            " |-- TARIFA: float (nullable = true)\n",
            " |-- ASSENTOS: integer (nullable = true)\n",
            "\n"
          ]
        }
      ]
    },
    {
      "cell_type": "markdown",
      "source": [
        "#Problema Número 1:\n",
        "\n",
        "##Qual Trecho teve maior número de assentos vendidos (Ano-a-Ano)?\n"
      ],
      "metadata": {
        "id": "b2d78N2GwjTe"
      }
    },
    {
      "cell_type": "code",
      "source": [
        "%%time\n",
        "\n",
        "#Crio a coluna referente à Rota\n",
        "best_root_by_year = data_spark.withColumn('ROUTE',F.concat( F.col('ORIGEM'), F.lit(\" - \"), F.col('DESTINO'))).drop('ORIGEM').drop('DESTINO')\n",
        "\n",
        "# Crio uma coluna 'TOTAL_SEATS' com o somatório de 'ASSENTOS' por ANO e ROUTE\n",
        "best_root_by_year = best_root_by_year.withColumn('TOTAL_SEATS', F.sum('ASSENTOS').over(Window.partitionBy('ANO', 'ROUTE'))).drop('ASSENTOS')\n",
        "\n",
        "# Crio uma janela por ANO e ordene pela quantidade total de assentos em ordem decrescente\n",
        "window_spec = Window.partitionBy('ANO').orderBy(F.desc('TOTAL_SEATS'))\n",
        "\n",
        "# Adicione uma coluna 'rank' com a classificação da quantidade de assentos\n",
        "best_root_by_year = best_root_by_year.withColumn('rank', F.row_number().over(window_spec))\n",
        "\n",
        "# Filtrar as linhas onde 'rank' é igual a 1, ou seja, o trecho com o maior número de assentos\n",
        "best_root_by_year = best_root_by_year.filter(F.col('rank') == 1).orderBy('ANO').drop('rank')\n",
        "\n",
        "best_root_by_year.show(11)"
      ],
      "metadata": {
        "colab": {
          "base_uri": "https://localhost:8080/"
        },
        "id": "-Hry7HJoU-MB",
        "outputId": "1bf5f516-f66d-4616-ec10-75fcecd9c992"
      },
      "execution_count": null,
      "outputs": [
        {
          "output_type": "stream",
          "name": "stdout",
          "text": [
            "+----+---+-------+-------+-----------+-----------+\n",
            "| ANO|MES|EMPRESA| TARIFA|      ROUTE|TOTAL_SEATS|\n",
            "+----+---+-------+-------+-----------+-----------+\n",
            "|2013|  1|    AZU|   67.0|SBRJ - SBSP|    1012536|\n",
            "|2014|  1|    AZU|  360.9|SBRJ - SBSP|    1091060|\n",
            "|2015|  1|    AZU|  849.9|SBSP - SBRJ|     925654|\n",
            "|2016|  1|    AZU|  477.9|SBSP - SBRJ|     827281|\n",
            "|2017|  1|    AZU| 267.21|SBSP - SBRJ|     787912|\n",
            "|2018|  1|    AZU|1570.22|SBSP - SBRJ|     738536|\n",
            "|2019|  1|    AZU|  179.9|SBSP - SBRJ|     702842|\n",
            "|2020|  1|    AZU| 1019.9|SBRJ - SBSP|     350451|\n",
            "|2021|  1|    AZU|  11.39|SBRJ - SBSP|     439748|\n",
            "|2022|  1|    AZU| 1002.0|SBSP - SBRJ|     436302|\n",
            "|2023|  1|    AZU| 112.14|SBSP - SBRJ|     503368|\n",
            "+----+---+-------+-------+-----------+-----------+\n",
            "\n",
            "CPU times: user 2.74 s, sys: 388 ms, total: 3.12 s\n",
            "Wall time: 8min 54s\n"
          ]
        }
      ]
    },
    {
      "cell_type": "markdown",
      "source": [
        "**Insight: Fica observado que o Trecho Rio-São Paulo ou vice-versa foi o que teve maior número de assentos vendidos para toda a série histórica.**"
      ],
      "metadata": {
        "id": "fSJeGXOZhnEX"
      }
    },
    {
      "cell_type": "markdown",
      "source": [
        "#Problema Número 2:\n",
        "\n",
        "##Quais foram a 5 empresas com maior faturamento no ano de 2022, ano de normalização do setor aéreo pós Pandemia do COVID?"
      ],
      "metadata": {
        "id": "QtiZtSxY43no"
      }
    },
    {
      "cell_type": "code",
      "source": [
        "%%time\n",
        "# Seleciona os dados e calcula o coluna 'VALOR_FATURADO'\n",
        "top_5_comp_revenue = data_spark.withColumn('VALOR_FATURADO', F.col('TARIFA') * F.col('ASSENTOS'))\n",
        "\n",
        "# Filtrar por ano e agrupar por empresa e obter os 5 maiores valores\n",
        "top_5_comp_revenue = top_5_comp_revenue.where(F.col('ANO') == '2022')\\\n",
        "                             .groupBy('EMPRESA')\\\n",
        "                             .sum('VALOR_FATURADO')\\\n",
        "                             .withColumnRenamed('sum(VALOR_FATURADO)', 'TOTAL_REVENUE')\\\n",
        "                             .orderBy(F.desc('TOTAL_REVENUE'))\\\n",
        "                             .limit(5)\n",
        "\n",
        " # Formatar a coluna 'total_revenue'\n",
        "top_5_comp_revenue = top_5_comp_revenue.withColumn(\n",
        "    'TOTAL_REVENUE',\n",
        "    F.format_number('TOTAL_REVENUE', 0)\n",
        ")\n",
        "\n",
        "# Mostrar os resultados\n",
        "top_5_comp_revenue.show(truncate=False)"
      ],
      "metadata": {
        "id": "hTqlYeUU7wuB",
        "colab": {
          "base_uri": "https://localhost:8080/"
        },
        "outputId": "ef68a216-bedd-409d-f755-f584ef68b969"
      },
      "execution_count": 4,
      "outputs": [
        {
          "output_type": "stream",
          "name": "stdout",
          "text": [
            "+-------+-------------+\n",
            "|EMPRESA|TOTAL_REVENUE|\n",
            "+-------+-------------+\n",
            "|AZU    |6,410,829,530|\n",
            "|TAM    |5,497,794,038|\n",
            "|GLO    |3,996,342,260|\n",
            "|PTB    |74,609,663   |\n",
            "|ABJ    |2,208,270    |\n",
            "+-------+-------------+\n",
            "\n",
            "CPU times: user 831 ms, sys: 124 ms, total: 955 ms\n",
            "Wall time: 2min 30s\n"
          ]
        }
      ]
    },
    {
      "cell_type": "markdown",
      "source": [
        "#Problema Número 3:\n",
        "\n",
        "##Qual o Crescimento Percental de Faturamento (Ano-a-Ano) dentro da Série Histórica das 3 empresas que mais faturaram em 2022"
      ],
      "metadata": {
        "id": "gazHYVu3eN5G"
      }
    },
    {
      "cell_type": "code",
      "source": [
        "%%time\n",
        "\n",
        "#Lista com Nomes das Top 3 Empresas de Maior Faturamento em 2022\n",
        "name_comp = top_5_comp_revenue.select('EMPRESA').limit(3).rdd.flatMap(lambda x: x).collect()\n",
        "\n",
        "window_spec = Window.partitionBy('EMPRESA').orderBy('ANO')\n",
        "\n",
        "#Calculo Valor Faturado por Trecho\n",
        "top_3_revenue_hist = data_spark.withColumn('VALOR_FATURADO', F.col('TARIFA') * F.col('ASSENTOS'))\n",
        "\n",
        "#Filtro\n",
        "top_3_revenue_hist = top_3_revenue_hist.where(F.col('EMPRESA').isin(name_comp))\\\n",
        "                                       .groupBy('ANO', 'EMPRESA')\\\n",
        "                                       .agg(F.sum('VALOR_FATURADO').alias('FAT_BY_YEAR'))\\\n",
        "                                       .orderBy('EMPRESA', 'ANO')\n",
        "#Criação do Valor de \"Shiff\" do Faturamento\n",
        "top_3_revenue_hist = top_3_revenue_hist.withColumn('LAST_YEAR_FAT', F.lag('FAT_BY_YEAR').over(window_spec))\n",
        "\n",
        "#Casting\n",
        "top_3_revenue_hist = top_3_revenue_hist.withColumn('LAST_YEAR_FAT', F.col('LAST_YEAR_FAT').cast(FloatType()))\n",
        "top_3_revenue_hist = top_3_revenue_hist.withColumn('FAT_BY_YEAR', F.col('FAT_BY_YEAR').cast(FloatType()))\n",
        "\n",
        "#Calculo dos Percentuais\n",
        "growth_top_3_revenue_hist = top_3_revenue_hist.withColumn('GROWTH_PERCENTAGE', ((F.col('FAT_BY_YEAR') / F.col('LAST_YEAR_FAT')) - 1) * 100)\n",
        "\n",
        "#Formatação\n",
        "growth_top_3_revenue_hist = growth_top_3_revenue_hist.withColumn(\n",
        "    'FAT_BY_YEAR',\n",
        "    F.format_number('FAT_BY_YEAR', 0)\n",
        ")\n",
        "\n",
        "growth_top_3_revenue_hist = growth_top_3_revenue_hist.drop('LAST_YEAR_FAT')\n",
        "\n",
        "#Formatação\n",
        "growth_top_3_revenue_hist = growth_top_3_revenue_hist.withColumn(\n",
        "    'GROWTH_PERCENTAGE',\n",
        "    F.format_number('GROWTH_PERCENTAGE', 2)\n",
        ").withColumn(\n",
        "    'GROWTH_PERCENTAGE',\n",
        "    F.expr(\"CONCAT(GROWTH_PERCENTAGE, ' %')\" )\n",
        ")\n",
        "\n",
        "growth_top_3_revenue_hist.show(33)"
      ],
      "metadata": {
        "id": "28JBSXz6h0Tp",
        "colab": {
          "base_uri": "https://localhost:8080/"
        },
        "outputId": "c9a928e1-3d40-4fee-cf92-502e26ca6447"
      },
      "execution_count": 5,
      "outputs": [
        {
          "output_type": "stream",
          "name": "stdout",
          "text": [
            "+----+-------+-------------+-----------------+\n",
            "| ANO|EMPRESA|  FAT_BY_YEAR|GROWTH_PERCENTAGE|\n",
            "+----+-------+-------------+-----------------+\n",
            "|2013|    AZU|4,978,275,328|             NULL|\n",
            "|2014|    AZU|4,932,191,744|          -0.93 %|\n",
            "|2015|    AZU|4,238,011,904|         -14.07 %|\n",
            "|2016|    AZU|3,783,654,144|         -10.72 %|\n",
            "|2017|    AZU|4,050,829,824|           7.06 %|\n",
            "|2018|    AZU|4,086,864,896|           0.89 %|\n",
            "|2019|    AZU|4,631,773,696|          13.33 %|\n",
            "|2020|    AZU|2,468,897,536|         -46.70 %|\n",
            "|2021|    AZU|4,558,939,136|          84.65 %|\n",
            "|2022|    AZU|6,410,829,312|          40.62 %|\n",
            "|2023|    AZU|6,152,730,112|          -4.03 %|\n",
            "|2013|    GLO|5,078,872,576|             NULL|\n",
            "|2014|    GLO|5,226,098,176|           2.90 %|\n",
            "|2015|    GLO|4,239,774,976|         -18.87 %|\n",
            "|2016|    GLO|3,707,688,448|         -12.55 %|\n",
            "|2017|    GLO|4,114,338,816|          10.97 %|\n",
            "|2018|    GLO|4,575,376,384|          11.21 %|\n",
            "|2019|    GLO|5,424,360,448|          18.56 %|\n",
            "|2020|    GLO|2,827,313,408|         -47.88 %|\n",
            "|2021|    GLO|4,203,779,584|          48.68 %|\n",
            "|2022|    GLO|3,996,342,272|          -4.93 %|\n",
            "|2023|    GLO|3,598,361,088|          -9.96 %|\n",
            "|2013|    TAM|4,912,223,232|             NULL|\n",
            "|2014|    TAM|5,099,027,456|           3.80 %|\n",
            "|2015|    TAM|4,996,391,936|          -2.01 %|\n",
            "|2016|    TAM|4,191,760,896|         -16.10 %|\n",
            "|2017|    TAM|3,656,239,872|         -12.78 %|\n",
            "|2018|    TAM|3,629,682,688|          -0.73 %|\n",
            "|2019|    TAM|5,407,460,864|          48.98 %|\n",
            "|2020|    TAM|2,553,990,656|         -52.77 %|\n",
            "|2021|    TAM|3,758,746,624|          47.17 %|\n",
            "|2022|    TAM|5,497,794,048|          46.27 %|\n",
            "|2023|    TAM|5,953,222,144|           8.28 %|\n",
            "+----+-------+-------------+-----------------+\n",
            "\n",
            "CPU times: user 2.74 s, sys: 437 ms, total: 3.18 s\n",
            "Wall time: 8min 3s\n"
          ]
        }
      ]
    },
    {
      "cell_type": "markdown",
      "source": [
        "# Problema Número 4:\n",
        "\n",
        "##Dado que há meses que possuem historicamente maior e menor número de vendas, para qual mês do ano você indicaria a criação de oferta promocional para alavancar o número de vendas?"
      ],
      "metadata": {
        "id": "0wyEhr7w7xI2"
      }
    },
    {
      "cell_type": "code",
      "source": [
        "%%time\n",
        "#Crio um coluna com o somatório de assentos vendidos por Ano-Mês\n",
        "worst_months_by_year = data_spark.withColumn('SEATS_SOLD', F.sum('ASSENTOS').over(Window.partitionBy('ANO', 'MES'))).drop('EMPRESA','ORIGEM','DESTINO','TARIFA','ASSENTOS')\n",
        "\n",
        "worst_months_by_year = worst_months_by_year.distinct()\n",
        "\n",
        "#Crio uma Janela baseada no Ano, Ordenando Crescente pelo Total de assentos Ano-Mes\n",
        "window_spec = Window.partitionBy('ANO').orderBy(F.asc('SEATS_SOLD'))\n",
        "#Obtem os 3 piores meses em Assentos vendidos por Ano\n",
        "worst_months_by_year = worst_months_by_year.withColumn('rank', F.row_number().over(window_spec))\\\n",
        "                                           .where(F.col('rank') <= 3)\\\n",
        "                                           .drop('rank')\n",
        "\n",
        "worst_months_by_year.show(33)"
      ],
      "metadata": {
        "colab": {
          "base_uri": "https://localhost:8080/"
        },
        "id": "fjOn4aLLjEeE",
        "outputId": "582d4eb2-59d4-41b7-bef6-96384f98605f"
      },
      "execution_count": 6,
      "outputs": [
        {
          "output_type": "stream",
          "name": "stdout",
          "text": [
            "+----+---+----------+\n",
            "| ANO|MES|SEATS_SOLD|\n",
            "+----+---+----------+\n",
            "|2013|  2|   3341095|\n",
            "|2013| 12|   3790080|\n",
            "|2013|  1|   3832488|\n",
            "|2014|  6|   3651053|\n",
            "|2014|  2|   3772074|\n",
            "|2014| 12|   3915556|\n",
            "|2015| 12|   3286404|\n",
            "|2015|  9|   3674112|\n",
            "|2015| 10|   3737626|\n",
            "|2016| 12|   2839457|\n",
            "|2016|  9|   2916480|\n",
            "|2016| 10|   3143825|\n",
            "|2017| 12|   2745175|\n",
            "|2017|  2|   2957363|\n",
            "|2017|  4|   2974308|\n",
            "|2018| 12|   2498232|\n",
            "|2018|  2|   2709722|\n",
            "|2018|  8|   3066826|\n",
            "|2019| 12|   2585896|\n",
            "|2019|  4|   2639828|\n",
            "|2019|  2|   2701915|\n",
            "|2020|  5|    461570|\n",
            "|2020|  4|    509942|\n",
            "|2020|  6|    787037|\n",
            "|2021|  3|   1222017|\n",
            "|2021|  4|   1360092|\n",
            "|2021|  2|   1443330|\n",
            "|2022| 12|   1826543|\n",
            "|2022|  2|   1837818|\n",
            "|2022|  7|   1932906|\n",
            "|2023|  2|   2006356|\n",
            "|2023|  7|   2121394|\n",
            "|2023|  6|   2173649|\n",
            "+----+---+----------+\n",
            "\n",
            "CPU times: user 1.31 s, sys: 211 ms, total: 1.52 s\n",
            "Wall time: 4min 14s\n"
          ]
        }
      ]
    },
    {
      "cell_type": "markdown",
      "source": [
        "**Diante dos dados obtidos, os meses que apresentaram pior resultado durante a série histórica são os meses de FEVEREIRO E DEZEMBRO, sendo assim indicaria tais meses para a criação de ofertas promocionais.**"
      ],
      "metadata": {
        "id": "dqO9V8rZWCTY"
      }
    }
  ]
}